{
 "cells": [
  {
   "cell_type": "markdown",
   "metadata": {},
   "source": [
    "# **Part III - Transactions**"
   ]
  },
  {
   "cell_type": "code",
   "execution_count": 12,
   "metadata": {},
   "outputs": [],
   "source": [
    "import requests\n",
    "from pprint import pprint\n",
    "import pandas as pd\n",
    "import os"
   ]
  },
  {
   "cell_type": "markdown",
   "metadata": {},
   "source": [
    "# **Get data from API**"
   ]
  },
  {
   "cell_type": "code",
   "execution_count": 15,
   "metadata": {},
   "outputs": [],
   "source": [
    "# Retrieve API key\n",
    "def retrieve_api_key(name_file) : \n",
    "    api_key = None\n",
    "    with open(name_file) as file:\n",
    "        api_key = file.readline().strip()\n",
    "    return api_key\n",
    "\n",
    "\n",
    "# Retrieve historical data on Trades\n",
    "def get_historical_trades(api_key, time_start, time_end, save_dir = \"data/raw/trades/\") :\n",
    "    headers = {\"X-CoinAPI-Key\": api_key}\n",
    "    parameters = {  \n",
    "        \"symbol_id\": \"BITSTAMP_SPOT_BTC_USD\",\n",
    "        \"time_start\" : time_start,\n",
    "        \"time_end\" : time_end,\n",
    "        \"limit\" : 5, \n",
    "    }\n",
    "    r = requests.get(\"https://rest.coinapi.io/v1/trades/BITSTAMP_SPOT_BTC_USD/history\", \n",
    "                     headers=headers, params=parameters)\n",
    "\n",
    "    # Check if the request was successful (status code 200)\n",
    "    if r.status_code == 200:\n",
    "        # Parse and print the trade data\n",
    "        data = r.json()\n",
    "        df = pd.DataFrame(data)\n",
    "        \n",
    "        #Save as csv \n",
    "        if not os.path.isdir(save_dir):\n",
    "            os.makedirs(save_dir)\n",
    "\n",
    "        name_file = data[0]['time_exchange'] + \"_____\" + data[-1]['time_exchange']\n",
    "        df.to_csv(save_dir+name_file, use_deprecated_int96_timestamps=True, compression=\"brotli\")\n",
    "\n",
    "    else:\n",
    "        # Print an error message if the request was unsuccessful\n",
    "        print(f\"Error: {r.status_code} - {r.text}\")\n",
    "\n",
    "\n",
    "api_key = retrieve_api_key(\"API_key_coinAPI.txt\")\n",
    "data = get_historical_trades(api_key, \"2021-01-01\", \"2022-01-01\")\n"
   ]
  }
 ],
 "metadata": {
  "kernelspec": {
   "display_name": "adaexam2023",
   "language": "python",
   "name": "python3"
  },
  "language_info": {
   "codemirror_mode": {
    "name": "ipython",
    "version": 3
   },
   "file_extension": ".py",
   "mimetype": "text/x-python",
   "name": "python",
   "nbconvert_exporter": "python",
   "pygments_lexer": "ipython3",
   "version": "3.9.7"
  }
 },
 "nbformat": 4,
 "nbformat_minor": 2
}

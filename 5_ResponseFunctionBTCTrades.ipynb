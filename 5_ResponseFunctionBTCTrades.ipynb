{
 "cells": [
  {
   "cell_type": "code",
   "execution_count": 1,
   "metadata": {},
   "outputs": [],
   "source": [
    "import glob\n",
    "import pandas as pd\n",
    "import dask\n",
    "import matplotlib.pyplot as plt\n",
    "import numpy as np"
   ]
  },
  {
   "cell_type": "markdown",
   "metadata": {},
   "source": [
    "### Response function analysis"
   ]
  },
  {
   "cell_type": "markdown",
   "metadata": {},
   "source": [
    "We analyze the response function of BTC/USD as presented in Lecture 8. We also test the presence of stylized facts discussed in Aloud et al. (2012) presented in Lecture 7"
   ]
  },
  {
   "cell_type": "code",
   "execution_count": 2,
   "metadata": {},
   "outputs": [
    {
     "name": "stdout",
     "output_type": "stream",
     "text": [
      "['data/raw/trades_bitstamp/0_2021-01-01', 'data/raw/trades_bitstamp/0_2021-01-02', 'data/raw/trades_bitstamp/0_2021-01-03', 'data/raw/trades_bitstamp/0_2021-01-04', 'data/raw/trades_bitstamp/0_2021-01-05', 'data/raw/trades_bitstamp/0_2021-01-06', 'data/raw/trades_bitstamp/0_2021-01-07', 'data/raw/trades_bitstamp/105_2021-04-16', 'data/raw/trades_bitstamp/105_2021-04-17', 'data/raw/trades_bitstamp/105_2021-04-18', 'data/raw/trades_bitstamp/105_2021-04-19', 'data/raw/trades_bitstamp/105_2021-04-20', 'data/raw/trades_bitstamp/105_2021-04-21', 'data/raw/trades_bitstamp/105_2021-04-22', 'data/raw/trades_bitstamp/112_2021-04-23', 'data/raw/trades_bitstamp/112_2021-04-24', 'data/raw/trades_bitstamp/112_2021-04-25', 'data/raw/trades_bitstamp/112_2021-04-26', 'data/raw/trades_bitstamp/112_2021-04-27', 'data/raw/trades_bitstamp/112_2021-04-28', 'data/raw/trades_bitstamp/112_2021-04-29', 'data/raw/trades_bitstamp/119_2021-04-30', 'data/raw/trades_bitstamp/119_2021-05-01', 'data/raw/trades_bitstamp/119_2021-05-02', 'data/raw/trades_bitstamp/119_2021-05-03', 'data/raw/trades_bitstamp/119_2021-05-04', 'data/raw/trades_bitstamp/119_2021-05-05', 'data/raw/trades_bitstamp/119_2021-05-06', 'data/raw/trades_bitstamp/126_2021-05-07', 'data/raw/trades_bitstamp/126_2021-05-08', 'data/raw/trades_bitstamp/126_2021-05-09', 'data/raw/trades_bitstamp/126_2021-05-10', 'data/raw/trades_bitstamp/126_2021-05-11', 'data/raw/trades_bitstamp/126_2021-05-12', 'data/raw/trades_bitstamp/126_2021-05-13', 'data/raw/trades_bitstamp/133_2021-05-14', 'data/raw/trades_bitstamp/133_2021-05-15', 'data/raw/trades_bitstamp/133_2021-05-16', 'data/raw/trades_bitstamp/133_2021-05-17', 'data/raw/trades_bitstamp/133_2021-05-18', 'data/raw/trades_bitstamp/133_2021-05-19', 'data/raw/trades_bitstamp/133_2021-05-20', 'data/raw/trades_bitstamp/140_2021-05-21', 'data/raw/trades_bitstamp/140_2021-05-22', 'data/raw/trades_bitstamp/140_2021-05-23', 'data/raw/trades_bitstamp/140_2021-05-24', 'data/raw/trades_bitstamp/140_2021-05-25', 'data/raw/trades_bitstamp/140_2021-05-26', 'data/raw/trades_bitstamp/140_2021-05-27', 'data/raw/trades_bitstamp/147_2021-05-28', 'data/raw/trades_bitstamp/147_2021-05-29', 'data/raw/trades_bitstamp/147_2021-05-30', 'data/raw/trades_bitstamp/147_2021-05-31', 'data/raw/trades_bitstamp/147_2021-06-01', 'data/raw/trades_bitstamp/147_2021-06-02', 'data/raw/trades_bitstamp/147_2021-06-03', 'data/raw/trades_bitstamp/14_2021-01-15', 'data/raw/trades_bitstamp/14_2021-01-16', 'data/raw/trades_bitstamp/14_2021-01-17', 'data/raw/trades_bitstamp/14_2021-01-18', 'data/raw/trades_bitstamp/14_2021-01-19', 'data/raw/trades_bitstamp/14_2021-01-20', 'data/raw/trades_bitstamp/14_2021-01-21', 'data/raw/trades_bitstamp/154_2021-06-04', 'data/raw/trades_bitstamp/154_2021-06-05', 'data/raw/trades_bitstamp/154_2021-06-06', 'data/raw/trades_bitstamp/154_2021-06-07', 'data/raw/trades_bitstamp/154_2021-06-08', 'data/raw/trades_bitstamp/154_2021-06-09', 'data/raw/trades_bitstamp/154_2021-06-10', 'data/raw/trades_bitstamp/161_2021-06-11', 'data/raw/trades_bitstamp/161_2021-06-12', 'data/raw/trades_bitstamp/161_2021-06-13', 'data/raw/trades_bitstamp/161_2021-06-14', 'data/raw/trades_bitstamp/161_2021-06-15', 'data/raw/trades_bitstamp/161_2021-06-16', 'data/raw/trades_bitstamp/161_2021-06-17', 'data/raw/trades_bitstamp/168_2021-06-18', 'data/raw/trades_bitstamp/168_2021-06-19', 'data/raw/trades_bitstamp/168_2021-06-20', 'data/raw/trades_bitstamp/168_2021-06-21', 'data/raw/trades_bitstamp/168_2021-06-22', 'data/raw/trades_bitstamp/168_2021-06-23', 'data/raw/trades_bitstamp/168_2021-06-24', 'data/raw/trades_bitstamp/175_2021-06-25', 'data/raw/trades_bitstamp/175_2021-06-26', 'data/raw/trades_bitstamp/175_2021-06-27', 'data/raw/trades_bitstamp/175_2021-06-28', 'data/raw/trades_bitstamp/175_2021-06-29', 'data/raw/trades_bitstamp/175_2021-06-30', 'data/raw/trades_bitstamp/175_2021-07-01', 'data/raw/trades_bitstamp/182_2021-07-02', 'data/raw/trades_bitstamp/182_2021-07-03', 'data/raw/trades_bitstamp/182_2021-07-04', 'data/raw/trades_bitstamp/182_2021-07-05', 'data/raw/trades_bitstamp/182_2021-07-06', 'data/raw/trades_bitstamp/182_2021-07-07', 'data/raw/trades_bitstamp/182_2021-07-08', 'data/raw/trades_bitstamp/189_2021-07-09', 'data/raw/trades_bitstamp/189_2021-07-10', 'data/raw/trades_bitstamp/189_2021-07-11', 'data/raw/trades_bitstamp/189_2021-07-12', 'data/raw/trades_bitstamp/189_2021-07-13', 'data/raw/trades_bitstamp/189_2021-07-14', 'data/raw/trades_bitstamp/189_2021-07-15', 'data/raw/trades_bitstamp/196_2021-07-16', 'data/raw/trades_bitstamp/196_2021-07-17', 'data/raw/trades_bitstamp/196_2021-07-18', 'data/raw/trades_bitstamp/196_2021-07-19', 'data/raw/trades_bitstamp/196_2021-07-20', 'data/raw/trades_bitstamp/196_2021-07-21', 'data/raw/trades_bitstamp/196_2021-07-22', 'data/raw/trades_bitstamp/203_2021-07-23', 'data/raw/trades_bitstamp/203_2021-07-24', 'data/raw/trades_bitstamp/203_2021-07-25', 'data/raw/trades_bitstamp/203_2021-07-26', 'data/raw/trades_bitstamp/203_2021-07-27', 'data/raw/trades_bitstamp/203_2021-07-28', 'data/raw/trades_bitstamp/203_2021-07-29', 'data/raw/trades_bitstamp/210_2021-07-30', 'data/raw/trades_bitstamp/210_2021-07-31', 'data/raw/trades_bitstamp/210_2021-08-01', 'data/raw/trades_bitstamp/210_2021-08-02', 'data/raw/trades_bitstamp/210_2021-08-03', 'data/raw/trades_bitstamp/210_2021-08-04', 'data/raw/trades_bitstamp/210_2021-08-05', 'data/raw/trades_bitstamp/217_2021-08-06', 'data/raw/trades_bitstamp/217_2021-08-07', 'data/raw/trades_bitstamp/217_2021-08-08', 'data/raw/trades_bitstamp/217_2021-08-09', 'data/raw/trades_bitstamp/217_2021-08-10', 'data/raw/trades_bitstamp/217_2021-08-11', 'data/raw/trades_bitstamp/217_2021-08-12', 'data/raw/trades_bitstamp/21_2021-01-22', 'data/raw/trades_bitstamp/21_2021-01-23', 'data/raw/trades_bitstamp/21_2021-01-24', 'data/raw/trades_bitstamp/21_2021-01-25', 'data/raw/trades_bitstamp/21_2021-01-26', 'data/raw/trades_bitstamp/21_2021-01-27', 'data/raw/trades_bitstamp/21_2021-01-28', 'data/raw/trades_bitstamp/224_2021-08-13', 'data/raw/trades_bitstamp/224_2021-08-14', 'data/raw/trades_bitstamp/224_2021-08-15', 'data/raw/trades_bitstamp/224_2021-08-16', 'data/raw/trades_bitstamp/224_2021-08-17', 'data/raw/trades_bitstamp/224_2021-08-18', 'data/raw/trades_bitstamp/224_2021-08-19', 'data/raw/trades_bitstamp/231_2021-08-20', 'data/raw/trades_bitstamp/231_2021-08-21', 'data/raw/trades_bitstamp/231_2021-08-22', 'data/raw/trades_bitstamp/231_2021-08-23', 'data/raw/trades_bitstamp/231_2021-08-24', 'data/raw/trades_bitstamp/231_2021-08-25', 'data/raw/trades_bitstamp/231_2021-08-26', 'data/raw/trades_bitstamp/238_2021-08-27', 'data/raw/trades_bitstamp/238_2021-08-28', 'data/raw/trades_bitstamp/238_2021-08-29', 'data/raw/trades_bitstamp/238_2021-08-30', 'data/raw/trades_bitstamp/238_2021-08-31', 'data/raw/trades_bitstamp/238_2021-09-01', 'data/raw/trades_bitstamp/28_2021-01-29', 'data/raw/trades_bitstamp/28_2021-01-30', 'data/raw/trades_bitstamp/28_2021-01-31', 'data/raw/trades_bitstamp/28_2021-02-01', 'data/raw/trades_bitstamp/28_2021-02-02', 'data/raw/trades_bitstamp/28_2021-02-03', 'data/raw/trades_bitstamp/28_2021-02-04', 'data/raw/trades_bitstamp/35_2021-02-05', 'data/raw/trades_bitstamp/35_2021-02-06', 'data/raw/trades_bitstamp/35_2021-02-07', 'data/raw/trades_bitstamp/35_2021-02-08', 'data/raw/trades_bitstamp/35_2021-02-09', 'data/raw/trades_bitstamp/35_2021-02-10', 'data/raw/trades_bitstamp/35_2021-02-11', 'data/raw/trades_bitstamp/42_2021-02-12', 'data/raw/trades_bitstamp/42_2021-02-13', 'data/raw/trades_bitstamp/42_2021-02-14', 'data/raw/trades_bitstamp/42_2021-02-15', 'data/raw/trades_bitstamp/42_2021-02-16', 'data/raw/trades_bitstamp/42_2021-02-17', 'data/raw/trades_bitstamp/42_2021-02-18', 'data/raw/trades_bitstamp/49_2021-02-19', 'data/raw/trades_bitstamp/49_2021-02-20', 'data/raw/trades_bitstamp/49_2021-02-21', 'data/raw/trades_bitstamp/49_2021-02-22', 'data/raw/trades_bitstamp/49_2021-02-23', 'data/raw/trades_bitstamp/49_2021-02-24', 'data/raw/trades_bitstamp/49_2021-02-25', 'data/raw/trades_bitstamp/56_2021-02-26', 'data/raw/trades_bitstamp/56_2021-02-27', 'data/raw/trades_bitstamp/56_2021-02-28', 'data/raw/trades_bitstamp/56_2021-03-01', 'data/raw/trades_bitstamp/56_2021-03-02', 'data/raw/trades_bitstamp/56_2021-03-03', 'data/raw/trades_bitstamp/56_2021-03-04', 'data/raw/trades_bitstamp/63_2021-03-05', 'data/raw/trades_bitstamp/63_2021-03-06', 'data/raw/trades_bitstamp/63_2021-03-07', 'data/raw/trades_bitstamp/63_2021-03-08', 'data/raw/trades_bitstamp/63_2021-03-09', 'data/raw/trades_bitstamp/63_2021-03-10', 'data/raw/trades_bitstamp/63_2021-03-11', 'data/raw/trades_bitstamp/70_2021-03-12', 'data/raw/trades_bitstamp/70_2021-03-13', 'data/raw/trades_bitstamp/70_2021-03-14', 'data/raw/trades_bitstamp/70_2021-03-15', 'data/raw/trades_bitstamp/70_2021-03-16', 'data/raw/trades_bitstamp/70_2021-03-17', 'data/raw/trades_bitstamp/70_2021-03-18', 'data/raw/trades_bitstamp/77_2021-03-19', 'data/raw/trades_bitstamp/77_2021-03-20', 'data/raw/trades_bitstamp/77_2021-03-21', 'data/raw/trades_bitstamp/77_2021-03-22', 'data/raw/trades_bitstamp/77_2021-03-23', 'data/raw/trades_bitstamp/77_2021-03-24', 'data/raw/trades_bitstamp/77_2021-03-25', 'data/raw/trades_bitstamp/7_2021-01-08', 'data/raw/trades_bitstamp/7_2021-01-09', 'data/raw/trades_bitstamp/7_2021-01-10', 'data/raw/trades_bitstamp/7_2021-01-11', 'data/raw/trades_bitstamp/7_2021-01-12', 'data/raw/trades_bitstamp/7_2021-01-13', 'data/raw/trades_bitstamp/7_2021-01-14', 'data/raw/trades_bitstamp/84_2021-03-26', 'data/raw/trades_bitstamp/84_2021-03-27', 'data/raw/trades_bitstamp/84_2021-03-28', 'data/raw/trades_bitstamp/84_2021-03-29', 'data/raw/trades_bitstamp/84_2021-03-30', 'data/raw/trades_bitstamp/84_2021-03-31', 'data/raw/trades_bitstamp/84_2021-04-01', 'data/raw/trades_bitstamp/91_2021-04-02', 'data/raw/trades_bitstamp/91_2021-04-03', 'data/raw/trades_bitstamp/91_2021-04-04', 'data/raw/trades_bitstamp/91_2021-04-05', 'data/raw/trades_bitstamp/91_2021-04-06', 'data/raw/trades_bitstamp/91_2021-04-08', 'data/raw/trades_bitstamp/98_2021-04-09', 'data/raw/trades_bitstamp/98_2021-04-10', 'data/raw/trades_bitstamp/98_2021-04-11', 'data/raw/trades_bitstamp/98_2021-04-12', 'data/raw/trades_bitstamp/98_2021-04-13', 'data/raw/trades_bitstamp/98_2021-04-14', 'data/raw/trades_bitstamp/98_2021-04-15']\n"
     ]
    },
    {
     "data": {
      "text/html": [
       "<div>\n",
       "<style scoped>\n",
       "    .dataframe tbody tr th:only-of-type {\n",
       "        vertical-align: middle;\n",
       "    }\n",
       "\n",
       "    .dataframe tbody tr th {\n",
       "        vertical-align: top;\n",
       "    }\n",
       "\n",
       "    .dataframe thead th {\n",
       "        text-align: right;\n",
       "    }\n",
       "</style>\n",
       "<table border=\"1\" class=\"dataframe\">\n",
       "  <thead>\n",
       "    <tr style=\"text-align: right;\">\n",
       "      <th></th>\n",
       "      <th>symbol_id</th>\n",
       "      <th>time_exchange</th>\n",
       "      <th>time_coinapi</th>\n",
       "      <th>uuid</th>\n",
       "      <th>price</th>\n",
       "      <th>size</th>\n",
       "      <th>taker_side</th>\n",
       "    </tr>\n",
       "  </thead>\n",
       "  <tbody>\n",
       "    <tr>\n",
       "      <th>0</th>\n",
       "      <td>BITSTAMP_SPOT_BTC_USD</td>\n",
       "      <td>2021-01-01T00:00:04.8980000Z</td>\n",
       "      <td>2021-01-01T00:00:04.9748720Z</td>\n",
       "      <td>33c7dbae-6b00-4905-ae48-9a85960d33fc</td>\n",
       "      <td>28999.63</td>\n",
       "      <td>0.030000</td>\n",
       "      <td>BUY</td>\n",
       "    </tr>\n",
       "    <tr>\n",
       "      <th>1</th>\n",
       "      <td>BITSTAMP_SPOT_BTC_USD</td>\n",
       "      <td>2021-01-01T00:00:04.8980000Z</td>\n",
       "      <td>2021-01-01T00:00:04.9773935Z</td>\n",
       "      <td>77eba94a-2b66-472c-9ff6-38013bb34698</td>\n",
       "      <td>28999.63</td>\n",
       "      <td>0.005913</td>\n",
       "      <td>BUY</td>\n",
       "    </tr>\n",
       "    <tr>\n",
       "      <th>2</th>\n",
       "      <td>BITSTAMP_SPOT_BTC_USD</td>\n",
       "      <td>2021-01-01T00:00:11.4710000Z</td>\n",
       "      <td>2021-01-01T00:00:11.5512250Z</td>\n",
       "      <td>8f024f5b-8765-4f34-9def-b8b62a83a14c</td>\n",
       "      <td>28999.14</td>\n",
       "      <td>0.003448</td>\n",
       "      <td>BUY</td>\n",
       "    </tr>\n",
       "    <tr>\n",
       "      <th>3</th>\n",
       "      <td>BITSTAMP_SPOT_BTC_USD</td>\n",
       "      <td>2021-01-01T00:00:31.9520000Z</td>\n",
       "      <td>2021-01-01T00:00:32.0253369Z</td>\n",
       "      <td>11ca35c1-b6ab-40c8-a7ac-b31140eef8b7</td>\n",
       "      <td>29002.79</td>\n",
       "      <td>0.547770</td>\n",
       "      <td>BUY</td>\n",
       "    </tr>\n",
       "    <tr>\n",
       "      <th>4</th>\n",
       "      <td>BITSTAMP_SPOT_BTC_USD</td>\n",
       "      <td>2021-01-01T00:00:35.0320000Z</td>\n",
       "      <td>2021-01-01T00:00:35.0896292Z</td>\n",
       "      <td>0b4fde8a-16c7-4ee8-8868-5008f69146ba</td>\n",
       "      <td>29015.30</td>\n",
       "      <td>0.001700</td>\n",
       "      <td>BUY</td>\n",
       "    </tr>\n",
       "  </tbody>\n",
       "</table>\n",
       "</div>"
      ],
      "text/plain": [
       "               symbol_id                 time_exchange  \\\n",
       "0  BITSTAMP_SPOT_BTC_USD  2021-01-01T00:00:04.8980000Z   \n",
       "1  BITSTAMP_SPOT_BTC_USD  2021-01-01T00:00:04.8980000Z   \n",
       "2  BITSTAMP_SPOT_BTC_USD  2021-01-01T00:00:11.4710000Z   \n",
       "3  BITSTAMP_SPOT_BTC_USD  2021-01-01T00:00:31.9520000Z   \n",
       "4  BITSTAMP_SPOT_BTC_USD  2021-01-01T00:00:35.0320000Z   \n",
       "\n",
       "                   time_coinapi                                  uuid  \\\n",
       "0  2021-01-01T00:00:04.9748720Z  33c7dbae-6b00-4905-ae48-9a85960d33fc   \n",
       "1  2021-01-01T00:00:04.9773935Z  77eba94a-2b66-472c-9ff6-38013bb34698   \n",
       "2  2021-01-01T00:00:11.5512250Z  8f024f5b-8765-4f34-9def-b8b62a83a14c   \n",
       "3  2021-01-01T00:00:32.0253369Z  11ca35c1-b6ab-40c8-a7ac-b31140eef8b7   \n",
       "4  2021-01-01T00:00:35.0896292Z  0b4fde8a-16c7-4ee8-8868-5008f69146ba   \n",
       "\n",
       "      price      size taker_side  \n",
       "0  28999.63  0.030000        BUY  \n",
       "1  28999.63  0.005913        BUY  \n",
       "2  28999.14  0.003448        BUY  \n",
       "3  29002.79  0.547770        BUY  \n",
       "4  29015.30  0.001700        BUY  "
      ]
     },
     "metadata": {},
     "output_type": "display_data"
    },
    {
     "name": "stdout",
     "output_type": "stream",
     "text": [
      "['data/raw/mob/0_2021-01-01']\n"
     ]
    }
   ],
   "source": [
    "#Load data\n",
    "trade_files=glob.glob(\"data/raw/trades_bitstamp/*\")\n",
    "trade_files.sort()\n",
    "allpromises=[pd.read_parquet(fn) for fn in trade_files]\n",
    "trades=dask.compute(allpromises)[0]\n",
    "trades=pd.concat(trades)\n",
    "\n",
    "display(trades.head(5))\n",
    "\n",
    "mob_files = glob.glob(\"data/raw/mob/*\")\n",
    "mob_files.sort()\n",
    "allpromises=[pd.read_parquet(fn) for fn in mob_files]\n",
    "mob = dask.compute(allpromises)[0]\n",
    "mob = pd.concat(mob)\n"
   ]
  },
  {
   "cell_type": "code",
   "execution_count": 3,
   "metadata": {},
   "outputs": [],
   "source": [
    "mob['midprice'] = mob.apply(lambda row : (row['asks'][0]['price'] + row['bids'][0]['price'])/2,axis=1)\n",
    "events=trades.merge(mob,how=\"outer\",on=\"time_exchange\").sort_values('time_exchange').ffill()"
   ]
  },
  {
   "cell_type": "code",
   "execution_count": 4,
   "metadata": {},
   "outputs": [],
   "source": [
    "def response_function(tau):\n",
    "    response = events['s_n']*(events['midprice'] - events['midprice'].shift(tau))\n",
    "    return response.mean()\n",
    "events['s_n'] = events.apply(lambda row : +1 if row['taker_side'] == \"BUY\" else -1,axis=1)\n"
   ]
  },
  {
   "cell_type": "code",
   "execution_count": null,
   "metadata": {},
   "outputs": [],
   "source": [
    "range_x = np.arange(1000)\n",
    "response = [response_function(k) for k in range_x]\n"
   ]
  },
  {
   "cell_type": "code",
   "execution_count": 6,
   "metadata": {},
   "outputs": [
    {
     "data": {
      "text/plain": [
       "[<matplotlib.lines.Line2D at 0x7f5e79b59d20>]"
      ]
     },
     "execution_count": 6,
     "metadata": {},
     "output_type": "execute_result"
    },
    {
     "data": {
      "image/png": "[encoded data removed]",
      "text/plain": [
       "<Figure size 640x480 with 1 Axes>"
      ]
     },
     "metadata": {},
     "output_type": "display_data"
    }
   ],
   "source": [
    "fig, ax = plt.subplots()\n",
    "\n",
    "ax.set_xlabel(\"Lags [tau]\")\n",
    "ax.set_ylabel(\"Response\")\n",
    "ax.set_xscale('log')\n",
    "ax.plot(range_x, response)\n"
   ]
  }
 ],
 "metadata": {
  "kernelspec": {
   "display_name": "finBD",
   "language": "python",
   "name": "python3"
  },
  "language_info": {
   "codemirror_mode": {
    "name": "ipython",
    "version": 3
   },
   "file_extension": ".py",
   "mimetype": "text/x-python",
   "name": "python",
   "nbconvert_exporter": "python",
   "pygments_lexer": "ipython3",
   "version": "3.10.13"
  },
  "orig_nbformat": 4
 },
 "nbformat": 4,
 "nbformat_minor": 2
}
